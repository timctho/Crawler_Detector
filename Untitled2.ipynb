{
 "cells": [
  {
   "cell_type": "markdown",
   "metadata": {},
   "source": [
    "- - -\n",
    "訓練完模型後，終於可以進入系統偵測爬蟲的流程\n",
    "\n",
    "我會選擇某日的一份IIS Log，將其丟給系統\n"
   ]
  },
  {
   "cell_type": "code",
   "execution_count": 4,
   "metadata": {
    "collapsed": false
   },
   "outputs": [],
   "source": [
    "\n",
    "from pandas import read_csv\n",
    "import pandas as pd\n",
    "import numpy as np\n",
    "from datetime import timedelta\n",
    "from datetime import datetime\n",
    "from keras.models import load_model\n",
    "import os\n",
    "import pickle\n",
    "import warnings\n",
    "warnings.filterwarnings('ignore')\n",
    "\n",
    "\n",
    "logPath = './web1/u_ex161023.log'\n",
    "logFPath = './features/web1_ex161023_f.csv'\n",
    "\n"
   ]
  },
  {
   "cell_type": "markdown",
   "metadata": {},
   "source": [
    "- - -\n",
    "由系統告訴我說這份Log中有哪些被懷疑是爬蟲的ip\n",
    "\n",
    "而偵測的思路是分成兩階段:\n",
    "\n",
    "* 爬蟲顯性特徵(robots.txt、User Agent)，最直接，幾乎不會誤判\n",
    "\n",
    "* 分析爬蟲行為，交由Machine Learning去判斷\n"
   ]
  },
  {
   "cell_type": "code",
   "execution_count": 5,
   "metadata": {
    "collapsed": true
   },
   "outputs": [],
   "source": [
    "def strHas(s, src):\n",
    "    try:\n",
    "        return (s in src)\n",
    "    except TypeError:\n",
    "        return 0\n",
    "\n",
    "# known public bots\n",
    "botList = ['Googlebot', 'bingbot', 'msnbot']\n",
    "\n",
    "\n",
    "# analyze log file\n",
    "suspicious = dict()     \n",
    "temp = []\n",
    "f = open(logPath, encoding='utf-8', errors='ignore')\n",
    "logFeature = pd.read_csv(logFPath)\n",
    "line = f.readline()\n",
    "while line:\n",
    "    if line.startswith('#'):\n",
    "        line = f.readline()\n",
    "        continue\n",
    "    else:\n",
    "        temp.append(line.split())\n",
    "        line = f.readline()\n",
    "logTable = pd.DataFrame(temp)\n",
    "ips = logTable[9].unique()\n",
    "for ip in ips:\n",
    "        if ip.count('.')==3:      \n",
    "            ipLogs = logTable[logTable[9]==ip]\n",
    "            # known bot behabvior\n",
    "            if ipLogs[5].str.contains('robots.txt').sum() > 0:\n",
    "                suspicious[ip] = 66666\n",
    "            # known bots\n",
    "            elif ipLogs[11].str.contains('|'.join(botList)).sum() > 0:\n",
    "                suspicious[ip] = 66666\n",
    "            # slow but continuous crawl\n",
    "            if logFeature[logFeature['IP']==ip].shape[0] > 100:\n",
    "                suspicious[ip] = 66666\n",
    "\n",
    "\n",
    "# read feature\n",
    "featureDim = ['hitCount', 'GETcount', 'POSTcount', 'HEADcount', '3xxCount', '4xxCount', \n",
    "              'hjRatio']\n",
    "testFeature = logFeature[featureDim].as_matrix()\n",
    "\n",
    "# scaling feature\n",
    "scaler = pickle.load(open('scaler.sav', 'rb'))\n",
    "testFeature = scaler.transform(testFeature)\n",
    "\n",
    "# load AE to encode feature\n",
    "encodeModel = load_model('./encodeModel.h5')\n",
    "enFeature = encodeModel.predict(testFeature)\n",
    "\n",
    "# make classification with Kmeans\n",
    "km = pickle.load(open('km.sav', 'rb'))\n",
    "result = km.predict(enFeature)\n",
    "\n",
    "for i in range(result.size):\n",
    "    if result[i]==0:\n",
    "        if logFeature['IP'][i] in suspicious:\n",
    "            suspicious[logFeature['IP'][i]] += 1\n",
    "        else:\n",
    "            suspicious[logFeature['IP'][i]] = 0"
   ]
  },
  {
   "cell_type": "markdown",
   "metadata": {},
   "source": [
    "- - -\n",
    "這一份Log在經過這兩步的偵測後\n",
    "\n",
    "便得出所有被懷疑是爬蟲的ip如下:"
   ]
  },
  {
   "cell_type": "code",
   "execution_count": 6,
   "metadata": {
    "collapsed": false
   },
   "outputs": [
    {
     "name": "stdout",
     "output_type": "stream",
     "text": [
      "\n",
      "\n",
      "Suspicious Crawler Bot IPs:\n",
      "150.70.94.98\n",
      "10.31.145.166\n",
      "10.45.15.47\n",
      "10.45.15.48\n",
      "66.180.83.69\n",
      "10.45.15.50\n"
     ]
    }
   ],
   "source": [
    "print('\\n\\nSuspicious Crawler Bot IPs:')\n",
    "for k in suspicious:\n",
    "    if(suspicious[k]>0):\n",
    "        print(k)"
   ]
  },
  {
   "cell_type": "markdown",
   "metadata": {},
   "source": [
    "- - -\n",
    "此系統做為一個初步的嘗試，我想有許多可預見的改進方向:\n",
    "\n",
    "* 嘗試收集Label，可以用一般下載時會pop-out輸入驗證碼或圖片的方式，驗證是否為爬蟲\n",
    "\n",
    "* 過往歷史已經建立起來的爬蟲ip庫\n",
    "\n",
    "Supervised Learning會讓偵測準確率大幅上升，也能有更多模型選擇(LSTM、Reinforcement Learning)\n",
    "\n",
    "準確率上升後，不需要每日Log這麼多資料就可以有效的偵測\n",
    "\n",
    "即時的追蹤行為並偵測也較為可行\n",
    "- - -"
   ]
  }
 ],
 "metadata": {
  "kernelspec": {
   "display_name": "Python [conda root]",
   "language": "python",
   "name": "conda-root-py"
  },
  "language_info": {
   "codemirror_mode": {
    "name": "ipython",
    "version": 3
   },
   "file_extension": ".py",
   "mimetype": "text/x-python",
   "name": "python",
   "nbconvert_exporter": "python",
   "pygments_lexer": "ipython3",
   "version": "3.5.2"
  }
 },
 "nbformat": 4,
 "nbformat_minor": 1
}
